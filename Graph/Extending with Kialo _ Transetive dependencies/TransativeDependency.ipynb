{
 "cells": [
  {
   "cell_type": "code",
   "execution_count": 1,
   "metadata": {},
   "outputs": [],
   "source": [
    "from tqdm import tqdm\n",
    "from platform import python_version\n",
    "import pandas as pd\n",
    "import numpy as np\n",
    "import csv\n",
    "from pathlib import Path\n",
    "import os"
   ]
  },
  {
   "cell_type": "code",
   "execution_count": 2,
   "metadata": {},
   "outputs": [
    {
     "name": "stdout",
     "output_type": "stream",
     "text": [
      "3.10.5\n"
     ]
    }
   ],
   "source": [
    "print(python_version())"
   ]
  },
  {
   "cell_type": "code",
   "execution_count": 3,
   "metadata": {
    "colab": {
     "base_uri": "https://localhost:8080/",
     "height": 328
    },
    "collapsed": true,
    "id": "nZCFs3nEufmx",
    "outputId": "311be352-d5f5-4eb7-a736-ba8d7a5ffa39"
   },
   "outputs": [],
   "source": [
    "df = pd.read_csv(\"node.csv\")"
   ]
  },
  {
   "cell_type": "code",
   "execution_count": 4,
   "metadata": {
    "collapsed": true,
    "id": "A-2vjRAmFj1z"
   },
   "outputs": [],
   "source": [
    "id = df['id'].tolist()"
   ]
  },
  {
   "cell_type": "code",
   "execution_count": 5,
   "metadata": {},
   "outputs": [],
   "source": [
    "df_2 = pd.read_csv(\"rel.csv\")\n",
    "st = df_2['start'].tolist()\n",
    "en = df_2['end'].tolist()\n",
    "ef = df_2['effect'].tolist()\n",
    "im = df_2['impact'].tolist()"
   ]
  },
  {
   "cell_type": "code",
   "execution_count": 6,
   "metadata": {},
   "outputs": [
    {
     "data": {
      "text/html": [
       "<div>\n",
       "<style scoped>\n",
       "    .dataframe tbody tr th:only-of-type {\n",
       "        vertical-align: middle;\n",
       "    }\n",
       "\n",
       "    .dataframe tbody tr th {\n",
       "        vertical-align: top;\n",
       "    }\n",
       "\n",
       "    .dataframe thead th {\n",
       "        text-align: right;\n",
       "    }\n",
       "</style>\n",
       "<table border=\"1\" class=\"dataframe\">\n",
       "  <thead>\n",
       "    <tr style=\"text-align: right;\">\n",
       "      <th></th>\n",
       "      <th>ids</th>\n",
       "    </tr>\n",
       "  </thead>\n",
       "  <tbody>\n",
       "    <tr>\n",
       "      <th>0</th>\n",
       "      <td>1,10,89,53,55,141,149,173,176,28,16,330,189,56...</td>\n",
       "    </tr>\n",
       "    <tr>\n",
       "      <th>1</th>\n",
       "      <td>273,16,176,674,812,29,422,1310,1378,186,1469,5...</td>\n",
       "    </tr>\n",
       "    <tr>\n",
       "      <th>2</th>\n",
       "      <td>1,16,55,100,58,161,56,72,8,10,33,6,422,49,11,1...</td>\n",
       "    </tr>\n",
       "    <tr>\n",
       "      <th>3</th>\n",
       "      <td>1,42,87,161,58,618,6,8,9,1272,2528,83,235,6702...</td>\n",
       "    </tr>\n",
       "    <tr>\n",
       "      <th>4</th>\n",
       "      <td>1,16,58,56,6,29,53,186,383,106,8,234,127,129,2...</td>\n",
       "    </tr>\n",
       "  </tbody>\n",
       "</table>\n",
       "</div>"
      ],
      "text/plain": [
       "                                                 ids\n",
       "0  1,10,89,53,55,141,149,173,176,28,16,330,189,56...\n",
       "1  273,16,176,674,812,29,422,1310,1378,186,1469,5...\n",
       "2  1,16,55,100,58,161,56,72,8,10,33,6,422,49,11,1...\n",
       "3  1,42,87,161,58,618,6,8,9,1272,2528,83,235,6702...\n",
       "4  1,16,58,56,6,29,53,186,383,106,8,234,127,129,2..."
      ]
     },
     "execution_count": 6,
     "metadata": {},
     "output_type": "execute_result"
    }
   ],
   "source": [
    "dfc = pd.read_csv(\"newUn.csv\", sep='\\t', skip_blank_lines=False)\n",
    "dfim = pd.read_csv(\"newim.csv\", sep='\\t', skip_blank_lines=False)\n",
    "dfef = pd.read_csv(\"newefc.csv\", sep='\\t', skip_blank_lines=False)\n",
    "dfc.head()"
   ]
  },
  {
   "cell_type": "code",
   "execution_count": 7,
   "metadata": {},
   "outputs": [
    {
     "name": "stdout",
     "output_type": "stream",
     "text": [
      "165465\n"
     ]
    }
   ],
   "source": [
    "con = dfc['ids'].tolist()\n",
    "imp = dfim['ids'].tolist()\n",
    "eff = dfef['ids'].tolist()\n",
    "print(len(con))"
   ]
  },
  {
   "cell_type": "code",
   "execution_count": 8,
   "metadata": {},
   "outputs": [
    {
     "name": "stdout",
     "output_type": "stream",
     "text": [
      "261   261   261\n"
     ]
    }
   ],
   "source": [
    "conSet = []\n",
    "impSet = []\n",
    "effSet = []\n",
    "for x in range(len(con)):\n",
    "    tb = []\n",
    "    tc = []\n",
    "    td = []\n",
    "    if con[x] is np.nan:\n",
    "        conSet.append(tb)\n",
    "        impSet.append(tc)\n",
    "        effSet.append(td)\n",
    "    else:\n",
    "        tb = list(map(int, con[x].split(',')))\n",
    "        tc = list(map(float, str(imp[x]).split(',')))\n",
    "        td = list(map(int, eff[x].split(',')))\n",
    "        conSet.append(tb)\n",
    "        impSet.append(tc)\n",
    "        effSet.append(td)\n",
    "print(len(conSet[1]), ' ', len(impSet[1]), ' ', len(effSet[1]))"
   ]
  },
  {
   "cell_type": "code",
   "execution_count": null,
   "metadata": {},
   "outputs": [],
   "source": [
    "conSets = []\n",
    "impSets = []\n",
    "effSets = []\n",
    "cnt = 0\n",
    "for x in range(len(conSet)):\n",
    "  tx = []\n",
    "  ty = []\n",
    "  tz = []\n",
    "  for y in range(len(conSet[x])):\n",
    "    d = conSet[x][y]\n",
    "    flag = 0\n",
    "    if d < 165465:\n",
    "      for z in range(len(conSet[d])):\n",
    "        if conSet[d][z] == x:\n",
    "          flag = 1\n",
    "          cnt += 1\n",
    "    if flag == 0:\n",
    "      if conSet[x][y] < 165465:\n",
    "        tx.append(conSet[x][y])\n",
    "        ty.append(impSet[x][y])\n",
    "        tz.append(effSet[x][y])\n",
    "  conSets.append(tx)\n",
    "  impSets.append(ty)\n",
    "  effSets.append(tz)\n",
    "conSet = conSets\n",
    "impSet = impSets\n",
    "effSet = effSets\n",
    "print(cnt)"
   ]
  },
  {
   "cell_type": "code",
   "execution_count": 9,
   "metadata": {},
   "outputs": [],
   "source": [
    "def getlist(q, p, r, s):\n",
    "  so = []\n",
    "  params = []\n",
    "  np = []\n",
    "  su = []\n",
    "  #print(p)\n",
    "  chc = conSet[q]\n",
    "  ch = conSet[p]\n",
    "  ech = effSet[p]\n",
    "  for y in range(len(ch)):\n",
    "    flag = 0\n",
    "    mod = 0\n",
    "    end = ch[y]\n",
    "    efx = ech[y]\n",
    "    if efx == 'positive':\n",
    "      mod = 1*r\n",
    "    else:\n",
    "      mod = -1*r\n",
    "    for z in range(len(chc)):\n",
    "      if chc[z] == end:\n",
    "        flag = 1\n",
    "    if flag ==0:\n",
    "      so.append(q)\n",
    "      params.append(end)\n",
    "      np.append(mod)\n",
    "      su.append(s)\n",
    "  return so, params, np, su"
   ]
  },
  {
   "cell_type": "code",
   "execution_count": 10,
   "metadata": {},
   "outputs": [
    {
     "name": "stderr",
     "output_type": "stream",
     "text": [
      "  0%|          | 100/165465 [03:57<109:07:14,  2.38s/it]\n"
     ]
    },
    {
     "ename": "KeyboardInterrupt",
     "evalue": "",
     "output_type": "error",
     "traceback": [
      "\u001b[1;31m---------------------------------------------------------------------------\u001b[0m",
      "\u001b[1;31mKeyboardInterrupt\u001b[0m                         Traceback (most recent call last)",
      "\u001b[1;32md:\\ExtWorker\\nextWorker.ipynb Cell 10'\u001b[0m in \u001b[0;36m<cell line: 5>\u001b[1;34m()\u001b[0m\n\u001b[0;32m     <a href='vscode-notebook-cell:/d%3A/ExtWorker/nextWorker.ipynb#ch0000009?line=15'>16</a>\u001b[0m \u001b[39mfor\u001b[39;00m z \u001b[39min\u001b[39;00m \u001b[39mrange\u001b[39m(\u001b[39mlen\u001b[39m(param)):\n\u001b[0;32m     <a href='vscode-notebook-cell:/d%3A/ExtWorker/nextWorker.ipynb#ch0000009?line=16'>17</a>\u001b[0m   modif \u001b[39m=\u001b[39m efp[z]\n\u001b[1;32m---> <a href='vscode-notebook-cell:/d%3A/ExtWorker/nextWorker.ipynb#ch0000009?line=17'>18</a>\u001b[0m   src, nen, nenp, impx \u001b[39m=\u001b[39m getlist(start, param[z], modif, impact)\n\u001b[0;32m     <a href='vscode-notebook-cell:/d%3A/ExtWorker/nextWorker.ipynb#ch0000009?line=18'>19</a>\u001b[0m \u001b[39mfor\u001b[39;00m n \u001b[39min\u001b[39;00m \u001b[39mrange\u001b[39m(\u001b[39mlen\u001b[39m(nenp)):\n\u001b[0;32m     <a href='vscode-notebook-cell:/d%3A/ExtWorker/nextWorker.ipynb#ch0000009?line=19'>20</a>\u001b[0m   \u001b[39mif\u001b[39;00m nenp[n] \u001b[39m==\u001b[39m \u001b[39m1\u001b[39m:\n",
      "\u001b[1;32md:\\ExtWorker\\nextWorker.ipynb Cell 9'\u001b[0m in \u001b[0;36mgetlist\u001b[1;34m(q, p, r, s)\u001b[0m\n\u001b[0;32m     <a href='vscode-notebook-cell:/d%3A/ExtWorker/nextWorker.ipynb#ch0000008?line=22'>23</a>\u001b[0m \u001b[39melse\u001b[39;00m:\n\u001b[0;32m     <a href='vscode-notebook-cell:/d%3A/ExtWorker/nextWorker.ipynb#ch0000008?line=23'>24</a>\u001b[0m   mod \u001b[39m=\u001b[39m \u001b[39m-\u001b[39m\u001b[39m1\u001b[39m\u001b[39m*\u001b[39mr\n\u001b[1;32m---> <a href='vscode-notebook-cell:/d%3A/ExtWorker/nextWorker.ipynb#ch0000008?line=24'>25</a>\u001b[0m \u001b[39mfor\u001b[39;00m z \u001b[39min\u001b[39;00m \u001b[39mrange\u001b[39m(\u001b[39mlen\u001b[39;49m(chc)):\n\u001b[0;32m     <a href='vscode-notebook-cell:/d%3A/ExtWorker/nextWorker.ipynb#ch0000008?line=25'>26</a>\u001b[0m   \u001b[39mif\u001b[39;00m chc[z] \u001b[39m==\u001b[39m q \u001b[39mand\u001b[39;00m ch[z] \u001b[39m==\u001b[39m end:\n\u001b[0;32m     <a href='vscode-notebook-cell:/d%3A/ExtWorker/nextWorker.ipynb#ch0000008?line=26'>27</a>\u001b[0m     flag \u001b[39m=\u001b[39m \u001b[39m1\u001b[39m\n",
      "\u001b[1;31mKeyboardInterrupt\u001b[0m: "
     ]
    }
   ],
   "source": [
    "startd = []\n",
    "endd = []\n",
    "effectd = []\n",
    "impactd = []\n",
    "for x in tqdm(range(len(con))):\n",
    "  start = x\n",
    "  param = conSet[x]\n",
    "  if len(param) > 0:\n",
    "    efx = effSet[x]\n",
    "    efp = impSet[x]\n",
    "    impact = efp[0]\n",
    "    while len(param) != 0:\n",
    "      src = []\n",
    "      nen = []\n",
    "      nenp = []\n",
    "      impx = []\n",
    "      for z in range(len(param)):\n",
    "        modif = efp[z]\n",
    "        src, nen, nenp, impx = getlist(start, param[z], modif, impact)\n",
    "      for n in range(len(nenp)):\n",
    "        if nenp[n] == 1:\n",
    "          nenp[n] = 'positive'\n",
    "        else:\n",
    "          nenp[n] = 'negative'\n",
    "      for m in range(len(nen)):\n",
    "        startd.append(src[m])\n",
    "        endd.append(nen[m])\n",
    "        effectd.append(nenp[m])\n",
    "        impactd.append(impx[m])\n",
    "      param = nen\n",
    "      efp = nenp\n",
    "      #print(param)"
   ]
  },
  {
   "cell_type": "code",
   "execution_count": null,
   "metadata": {},
   "outputs": [],
   "source": [
    "list_tuples = list(zip(startd, endd, effectd, impactd))  \n",
    "d = pd.DataFrame(list_tuples, columns=['start', 'end', 'effect', 'impact'])  "
   ]
  },
  {
   "cell_type": "code",
   "execution_count": null,
   "metadata": {},
   "outputs": [],
   "source": [
    "stx = d['start'].tolist()\n",
    "enx = d['end'].tolist()\n",
    "efx = d['effect'].tolist()\n",
    "imx = d['impact'].tolist()\n",
    "idb = d.index.values.tolist()"
   ]
  },
  {
   "cell_type": "code",
   "execution_count": null,
   "metadata": {},
   "outputs": [],
   "source": [
    "\n",
    "srcy = []\n",
    "neny = []\n",
    "nenpy = []\n",
    "impxy = []\n",
    "def worker():\n",
    "  cnt = 0\n",
    "  for x in tqdm(range(len(stx))):\n",
    "    srcd = stx[x]\n",
    "    endc = enx[x]\n",
    "    efc = efx[x]\n",
    "    impc = imx[x]\n",
    "    idg = idb[x]\n",
    "    flag = 0\n",
    "    for y in range(len(stx)):\n",
    "      s = stx[y]\n",
    "      e = enx[y]\n",
    "      ec = efx[y]\n",
    "      i = imx[y]\n",
    "      id = idb[y]\n",
    "      if idg != id:\n",
    "        if srcd == s and endc == e:\n",
    "          ch1 = abs(float(impc))\n",
    "          ch2 = abs(float(i))\n",
    "          if ch1 < ch2:\n",
    "            flag = 1\n",
    "            cnt += 1\n",
    "    if flag != 1:\n",
    "      srcy.append(srcd)\n",
    "      neny.append(endc)\n",
    "      nenpy.append(efc)\n",
    "      impxy.append(impc)"
   ]
  },
  {
   "cell_type": "code",
   "execution_count": null,
   "metadata": {},
   "outputs": [],
   "source": [
    "for x in tqdm(range(len(stx))):\n",
    "  p = len(stx)\n",
    "  worker(x, p)"
   ]
  },
  {
   "cell_type": "code",
   "execution_count": null,
   "metadata": {},
   "outputs": [],
   "source": [
    "print('Report: removed ',cnt,' entries')\n",
    "list_tuple = list(zip(srcy, neny, nenpy))  \n",
    "dd = pd.DataFrame(list_tuple, columns=['start', 'end', 'effect'])  \n",
    "dd.drop_duplicates(keep='first', inplace=True)\n",
    "dd.to_csv(r'ext.csv', index=False)\n",
    "print('File written as ext.csv')"
   ]
  }
 ],
 "metadata": {
  "colab": {
   "name": "nextWorker.ipynb",
   "provenance": []
  },
  "kernelspec": {
   "display_name": "Python 3.10.5 64-bit (windows store)",
   "language": "python",
   "name": "python3"
  },
  "language_info": {
   "codemirror_mode": {
    "name": "ipython",
    "version": 3
   },
   "file_extension": ".py",
   "mimetype": "text/x-python",
   "name": "python",
   "nbconvert_exporter": "python",
   "pygments_lexer": "ipython3",
   "version": "3.10.8"
  },
  "vscode": {
   "interpreter": {
    "hash": "e3f63e86951629e643d62d332a9fb0eb1908ac056d46d42df4e2df3c54789302"
   }
  }
 },
 "nbformat": 4,
 "nbformat_minor": 1
}
